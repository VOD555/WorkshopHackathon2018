{
 "cells": [
  {
   "cell_type": "code",
   "execution_count": 1,
   "metadata": {},
   "outputs": [],
   "source": [
    "import MDAnalysis as mda\n",
    "import numpy as np\n",
    "import pmda\n",
    "from pmda import rdf, rms\n",
    "from MDAnalysisData import datasets"
   ]
  },
  {
   "cell_type": "code",
   "execution_count": 2,
   "metadata": {},
   "outputs": [
    {
     "name": "stdout",
     "output_type": "stream",
     "text": [
      "0.18.1-dev\n",
      "0.1.1+34.g3d78fc7.dirty\n"
     ]
    }
   ],
   "source": [
    "print(mda.__version__)\n",
    "print(pmda.__version__)"
   ]
  },
  {
   "cell_type": "code",
   "execution_count": 3,
   "metadata": {},
   "outputs": [],
   "source": [
    "nhaa = datasets.fetch_nhaa_equilibrium()\n",
    "u = mda.Universe(nhaa.topology, nhaa.trajectory)"
   ]
  },
  {
   "cell_type": "code",
   "execution_count": 4,
   "metadata": {},
   "outputs": [],
   "source": [
    "ref = mda.Universe(nhaa.topology)"
   ]
  },
  {
   "cell_type": "code",
   "execution_count": 5,
   "metadata": {},
   "outputs": [
    {
     "data": {
      "text/plain": [
       "<AtomGroup with 752 atoms>"
      ]
     },
     "execution_count": 5,
     "metadata": {},
     "output_type": "execute_result"
    }
   ],
   "source": [
    "ca = u.select_atoms('name CA')\n",
    "ca"
   ]
  },
  {
   "cell_type": "code",
   "execution_count": 6,
   "metadata": {},
   "outputs": [],
   "source": [
    "rmsd = rms.RMSD(ca, ref.select_atoms('name CA'))"
   ]
  },
  {
   "cell_type": "code",
   "execution_count": 82,
   "metadata": {},
   "outputs": [
    {
     "name": "stdout",
     "output_type": "stream",
     "text": [
      "CPU times: user 12 ms, sys: 16.9 ms, total: 28.9 ms\n",
      "Wall time: 17.4 s\n",
      "CPU times: user 14 ms, sys: 48.8 ms, total: 62.8 ms\n",
      "Wall time: 13.4 s\n"
     ]
    },
    {
     "data": {
      "text/plain": [
       "<pmda.rms.RMSD at 0x7f6deb7a2a20>"
      ]
     },
     "execution_count": 82,
     "metadata": {},
     "output_type": "execute_result"
    }
   ],
   "source": [
    "%time rmsd.run(n_jobs=1)\n",
    "%time rmsd.run(n_jobs=4)"
   ]
  },
  {
   "cell_type": "code",
   "execution_count": 8,
   "metadata": {},
   "outputs": [],
   "source": [
    "import matplotlib.pyplot as plt\n",
    "%matplotlib inline"
   ]
  },
  {
   "cell_type": "code",
   "execution_count": 9,
   "metadata": {},
   "outputs": [
    {
     "data": {
      "text/plain": [
       "[<matplotlib.lines.Line2D at 0x7f6deb9bbb00>]"
      ]
     },
     "execution_count": 9,
     "metadata": {},
     "output_type": "execute_result"
    },
    {
     "data": {
      "image/png": "[encoded data removed]",
      "text/plain": [
       "<Figure size 432x288 with 1 Axes>"
      ]
     },
     "metadata": {
      "needs_background": "light"
     },
     "output_type": "display_data"
    }
   ],
   "source": [
    "plt.plot(rmsd.rmsd[:,1], rmsd.rmsd[:,2])"
   ]
  },
  {
   "cell_type": "code",
   "execution_count": 10,
   "metadata": {},
   "outputs": [
    {
     "data": {
      "text/plain": [
       "array([[0.00000000e+00, 0.00000000e+00, 1.64690232e+00],\n",
       "       [1.00000000e+00, 1.00000000e+02, 1.82993035e+00],\n",
       "       [2.00000000e+00, 2.00000000e+02, 1.80124722e+00],\n",
       "       ...,\n",
       "       [4.99800000e+03, 4.99800000e+05, 2.61932982e+00],\n",
       "       [4.99900000e+03, 4.99900000e+05, 2.49379004e+00],\n",
       "       [5.00000000e+03, 5.00000000e+05, 2.57827688e+00]])"
      ]
     },
     "execution_count": 10,
     "metadata": {},
     "output_type": "execute_result"
    }
   ],
   "source": [
    "rmsd.rmsd"
   ]
  },
  {
   "cell_type": "code",
   "execution_count": 11,
   "metadata": {},
   "outputs": [
    {
     "data": {
      "text/plain": [
       "<AtomGroup with 121 atoms>"
      ]
     },
     "execution_count": 11,
     "metadata": {},
     "output_type": "execute_result"
    }
   ],
   "source": [
    "SOD = u.select_atoms('resname SOD')\n",
    "SOD"
   ]
  },
  {
   "cell_type": "code",
   "execution_count": 12,
   "metadata": {},
   "outputs": [
    {
     "data": {
      "text/plain": [
       "<AtomGroup with 240 atoms>"
      ]
     },
     "execution_count": 12,
     "metadata": {},
     "output_type": "execute_result"
    }
   ],
   "source": [
    "ASP = u.select_atoms('resname ASP')\n",
    "ASP"
   ]
  },
  {
   "cell_type": "code",
   "execution_count": 64,
   "metadata": {},
   "outputs": [
    {
     "data": {
      "text/plain": [
       "array([ 11,  40,  65, 119, 133, 163, 164, 178, 282, 354,  11,  40,  65,\n",
       "       119, 133, 163, 164, 178, 282, 354])"
      ]
     },
     "execution_count": 64,
     "metadata": {},
     "output_type": "execute_result"
    }
   ],
   "source": [
    "ASP.residues.resids"
   ]
  },
  {
   "cell_type": "code",
   "execution_count": 68,
   "metadata": {},
   "outputs": [
    {
     "data": {
      "text/plain": [
       "<AtomGroup with 40 atoms>"
      ]
     },
     "execution_count": 68,
     "metadata": {},
     "output_type": "execute_result"
    }
   ],
   "source": [
    "O_ASP = ASP.select_atoms('name OD1 or name OD2')\n",
    "O_ASP"
   ]
  },
  {
   "cell_type": "code",
   "execution_count": 16,
   "metadata": {},
   "outputs": [],
   "source": [
    "rdf_SOD_O = rdf.InterRDF(SOD, O_ASP, nbins=100, range=(0.0, 5.0))"
   ]
  },
  {
   "cell_type": "code",
   "execution_count": 66,
   "metadata": {},
   "outputs": [],
   "source": [
    "rdf_SOD_O.run(n_jobs=4);"
   ]
  },
  {
   "cell_type": "code",
   "execution_count": 18,
   "metadata": {},
   "outputs": [
    {
     "data": {
      "text/plain": [
       "array([0.025, 0.075, 0.125, 0.175, 0.225, 0.275, 0.325, 0.375, 0.425,\n",
       "       0.475, 0.525, 0.575, 0.625, 0.675, 0.725, 0.775, 0.825, 0.875,\n",
       "       0.925, 0.975, 1.025, 1.075, 1.125, 1.175, 1.225, 1.275, 1.325,\n",
       "       1.375, 1.425, 1.475, 1.525, 1.575, 1.625, 1.675, 1.725, 1.775,\n",
       "       1.825, 1.875, 1.925, 1.975, 2.025, 2.075, 2.125, 2.175, 2.225,\n",
       "       2.275, 2.325, 2.375, 2.425, 2.475, 2.525, 2.575, 2.625, 2.675,\n",
       "       2.725, 2.775, 2.825, 2.875, 2.925, 2.975, 3.025, 3.075, 3.125,\n",
       "       3.175, 3.225, 3.275, 3.325, 3.375, 3.425, 3.475, 3.525, 3.575,\n",
       "       3.625, 3.675, 3.725, 3.775, 3.825, 3.875, 3.925, 3.975, 4.025,\n",
       "       4.075, 4.125, 4.175, 4.225, 4.275, 4.325, 4.375, 4.425, 4.475,\n",
       "       4.525, 4.575, 4.625, 4.675, 4.725, 4.775, 4.825, 4.875, 4.925,\n",
       "       4.975])"
      ]
     },
     "execution_count": 18,
     "metadata": {},
     "output_type": "execute_result"
    }
   ],
   "source": [
    "rdf_SOD_O.bins"
   ]
  },
  {
   "cell_type": "code",
   "execution_count": 19,
   "metadata": {},
   "outputs": [
    {
     "data": {
      "text/plain": [
       "array([ 0.        ,  0.        ,  0.        ,  0.        ,  0.        ,\n",
       "        0.        ,  0.        ,  0.        ,  0.        ,  0.        ,\n",
       "        0.        ,  0.        ,  0.        ,  0.        ,  0.        ,\n",
       "        0.        ,  0.        ,  0.        ,  0.        ,  0.        ,\n",
       "        0.        ,  0.        ,  0.        ,  0.        ,  0.        ,\n",
       "        0.        ,  0.        ,  0.        ,  0.        ,  0.        ,\n",
       "        0.        ,  0.        ,  0.        ,  0.        ,  0.        ,\n",
       "        0.        ,  0.        ,  0.        ,  0.        ,  0.        ,\n",
       "        0.        ,  0.19613377,  1.91168798, 12.01993346, 33.37706443,\n",
       "       53.69969986, 58.3061599 , 51.65179561, 38.4383747 , 27.87875008,\n",
       "       19.69183757, 13.40136249,  9.55944004,  6.9893064 ,  5.05454283,\n",
       "        4.11856632,  3.4214629 ,  2.96292699,  2.36896434,  2.26880253,\n",
       "        1.97908183,  1.90532255,  1.90249257,  2.19676022,  1.94873462,\n",
       "        2.11714893,  2.07093005,  2.17478093,  2.3037254 ,  2.30007336,\n",
       "        2.45428461,  2.90738872,  2.69206493,  3.05702069,  3.10399275,\n",
       "        3.24618858,  3.21318514,  3.66822317,  3.69108899,  3.42659604,\n",
       "        3.72426612,  3.36784947,  3.88779164,  4.22051064,  4.32096163,\n",
       "        4.5798869 ,  4.74047473,  4.69647219,  4.65323672,  4.44206416,\n",
       "        4.13821692,  3.66719388,  3.71554729,  3.61073581,  3.26993414,\n",
       "        3.24708285,  2.86574911,  2.94545823,  2.50683583,  2.54768972])"
      ]
     },
     "execution_count": 19,
     "metadata": {},
     "output_type": "execute_result"
    }
   ],
   "source": [
    "rdf_SOD_O.rdf"
   ]
  },
  {
   "cell_type": "code",
   "execution_count": 20,
   "metadata": {
    "scrolled": true
   },
   "outputs": [
    {
     "data": {
      "text/plain": [
       "<function matplotlib.pyplot.show(*args, **kw)>"
      ]
     },
     "execution_count": 20,
     "metadata": {},
     "output_type": "execute_result"
    },
    {
     "data": {
      "image/png": "[encoded data removed]",
      "text/plain": [
       "<Figure size 432x288 with 1 Axes>"
      ]
     },
     "metadata": {
      "needs_background": "light"
     },
     "output_type": "display_data"
    }
   ],
   "source": [
    "fig = plt.figure()\n",
    "ax = fig.add_subplot(111)\n",
    "ax.plot(rdf_SOD_O.bins, rdf_SOD_O.rdf)\n",
    "ax.set_xlabel('Distance ($\\AA$)')\n",
    "ax.set_ylabel('Distribution')\n",
    "plt.show"
   ]
  },
  {
   "cell_type": "code",
   "execution_count": 23,
   "metadata": {},
   "outputs": [],
   "source": [
    "#add graph of two sodium in the binding site"
   ]
  },
  {
   "cell_type": "code",
   "execution_count": 61,
   "metadata": {},
   "outputs": [],
   "source": [
    "SOD1 = SOD.select_atoms('resid 29375 or resid 29401')"
   ]
  },
  {
   "cell_type": "code",
   "execution_count": 25,
   "metadata": {},
   "outputs": [],
   "source": [
    "from pmda import custom"
   ]
  },
  {
   "cell_type": "code",
   "execution_count": 26,
   "metadata": {},
   "outputs": [],
   "source": [
    "def Z_SOD(ag):\n",
    "    return [ag.universe.trajectory.time, ag.positions[0][2], ag.positions[1][2]]"
   ]
  },
  {
   "cell_type": "code",
   "execution_count": 78,
   "metadata": {},
   "outputs": [
    {
     "data": {
      "text/plain": [
       "array([[0.00000000e+00, 4.81100044e+01, 7.85400085e+01],\n",
       "       [1.00000000e+02, 4.80500031e+01, 7.71300049e+01],\n",
       "       [2.00000000e+02, 4.79400024e+01, 7.81700058e+01],\n",
       "       ...,\n",
       "       [4.99800000e+05, 4.84000015e+01, 4.58800049e+01],\n",
       "       [4.99900000e+05, 4.84799995e+01, 4.50400009e+01],\n",
       "       [5.00000000e+05, 4.80100021e+01, 4.46599998e+01]])"
      ]
     },
     "execution_count": 78,
     "metadata": {},
     "output_type": "execute_result"
    }
   ],
   "source": [
    "parallel_z = custom.AnalysisFromFunction(Z_SOD, u, SOD1)\n",
    "parallel_z.run(n_jobs=4);\n",
    "parallel_z.results"
   ]
  },
  {
   "cell_type": "code",
   "execution_count": 28,
   "metadata": {},
   "outputs": [
    {
     "data": {
      "text/plain": [
       "array([[0.00000000e+00, 4.81100044e+01, 7.85400085e+01],\n",
       "       [1.00000000e+02, 4.80500031e+01, 7.71300049e+01],\n",
       "       [2.00000000e+02, 4.79400024e+01, 7.81700058e+01],\n",
       "       ...,\n",
       "       [4.99800000e+05, 4.84000015e+01, 4.58800049e+01],\n",
       "       [4.99900000e+05, 4.84799995e+01, 4.50400009e+01],\n",
       "       [5.00000000e+05, 4.80100021e+01, 4.46599998e+01]])"
      ]
     },
     "execution_count": 28,
     "metadata": {},
     "output_type": "execute_result"
    }
   ],
   "source": [
    "z = np.array(parallel_z.results)\n",
    "z"
   ]
  },
  {
   "cell_type": "code",
   "execution_count": 60,
   "metadata": {},
   "outputs": [
    {
     "data": {
      "image/png": "[encoded data removed]",
      "text/plain": [
       "<Figure size 432x288 with 1 Axes>"
      ]
     },
     "metadata": {
      "needs_background": "light"
     },
     "output_type": "display_data"
    }
   ],
   "source": [
    "plt.plot(z[:,0]/1000, z[:,1], '.')\n",
    "plt.plot(z[:,0]/1000, z[:,2], '.')\n",
    "plt.xlabel('time(ns)');\n",
    "plt.ylabel('z ($\\AA$)');"
   ]
  },
  {
   "cell_type": "code",
   "execution_count": null,
   "metadata": {},
   "outputs": [],
   "source": [
    "# %load bsites.py\n",
    "from __future__ import absolute_import, division\n",
    "\n",
    "import numpy as np\n",
    "\n",
    "from pmda.parallel import ParallelAnalysisBase\n",
    "\n",
    "class bsites_finder(ParallelAnalysisBase):\n",
    "    \"\"\"\n",
    "    This\n",
    "    \"\"\"\n",
    "    def __init__(self, u, g1, g2, cutoff=5.0):\n",
    "        super(bsites_finder, self).__init__(u, (g1, g2))\n",
    "        self.cutoff=str(cutoff)\n",
    "\n",
    "    def _prepare(self):\n",
    "        self.ids = None\n",
    "\n",
    "    def _single_frame(self, ts, atomgroups):\n",
    "        g1, g2 = atomgroups\n",
    "        ag = g1+g2\n",
    "        id1 = ' '.join(str(id) for id in g1.resids)\n",
    "        id2 = ' '.join(str(id) for id in g2.resids)\n",
    "        sites = ag.select_atoms('resid {0} and around {1} (resid {2})'.format(\n",
    "               id1, self.cutoff, id2))\n",
    "        ids = np.unique(np.array(sites.residues.ix))\n",
    "        return ids\n",
    "\n",
    "    def _conclude(self,):\n",
    "        self.ids = np.array([])\n",
    "        for result in self._results:\n",
    "            self.ids = np.append(self.ids, result)\n",
    "\n",
    "    @staticmethod\n",
    "    def _reduce(res, result_single_frame):\n",
    "        if isinstance(res, list) and len(res) == 0:\n",
    "            # Convert res from an empty list to a numpy array\n",
    "            # which has the same shape as the single frame result\n",
    "            res = result_single_frame\n",
    "        else:\n",
    "            # Append new single frame result to res\n",
    "            res = np.append(res, result_single_frame)\n",
    "        return res\n"
   ]
  },
  {
   "cell_type": "code",
   "execution_count": null,
   "metadata": {},
   "outputs": [],
   "source": [
    "from bsites import bsites_finder"
   ]
  },
  {
   "cell_type": "code",
   "execution_count": 31,
   "metadata": {},
   "outputs": [],
   "source": [
    "asp = bsites_finder(u, ASP, SOD, cutoff=3.0)"
   ]
  },
  {
   "cell_type": "code",
   "execution_count": 32,
   "metadata": {},
   "outputs": [
    {
     "data": {
      "text/plain": [
       "<bsites.bsites_finder at 0x7f6deb9f65c0>"
      ]
     },
     "execution_count": 32,
     "metadata": {},
     "output_type": "execute_result"
    }
   ],
   "source": [
    "asp.run(n_jobs=4)"
   ]
  },
  {
   "cell_type": "code",
   "execution_count": 33,
   "metadata": {},
   "outputs": [
    {
     "data": {
      "text/plain": [
       "array([154., 530., 154., ..., 154., 529., 530.])"
      ]
     },
     "execution_count": 33,
     "metadata": {},
     "output_type": "execute_result"
    }
   ],
   "source": [
    "asp.ids"
   ]
  },
  {
   "cell_type": "code",
   "execution_count": 45,
   "metadata": {},
   "outputs": [
    {
     "name": "stdout",
     "output_type": "stream",
     "text": [
      "[  1.  30. 109. 123. 153. 154. 168. 272. 344. 377. 406. 431. 485. 499.\n",
      " 529. 530. 544. 648. 720.]\n",
      "[  26  107   92  154 3350 3778  101  115  100   32   73    3   53    2\n",
      " 1571 4932  109  125   84]\n"
     ]
    }
   ],
   "source": [
    "ids, counts = np.unique(asp.ids, return_counts=True)\n",
    "print(ids)\n",
    "print(counts)"
   ]
  },
  {
   "cell_type": "code",
   "execution_count": 55,
   "metadata": {
    "scrolled": false
   },
   "outputs": [],
   "source": [
    "ids_str = [str(int(n)) for n in ids]"
   ]
  },
  {
   "cell_type": "code",
   "execution_count": 56,
   "metadata": {},
   "outputs": [
    {
     "name": "stdout",
     "output_type": "stream",
     "text": [
      "['1', '30', '109', '123', '153', '154', '168', '272', '344', '377', '406', '431', '485', '499', '529', '530', '544', '648', '720']\n"
     ]
    }
   ],
   "source": [
    "print(ids_str)"
   ]
  },
  {
   "cell_type": "code",
   "execution_count": 41,
   "metadata": {},
   "outputs": [],
   "source": [
    "ind = range(len(ids))"
   ]
  },
  {
   "cell_type": "code",
   "execution_count": 79,
   "metadata": {},
   "outputs": [
    {
     "data": {
      "text/plain": [
       "Text(0.5,0,'residue index')"
      ]
     },
     "execution_count": 79,
     "metadata": {},
     "output_type": "execute_result"
    },
    {
     "data": {
      "image/png": "[encoded data removed]",
      "text/plain": [
       "<Figure size 576x288 with 1 Axes>"
      ]
     },
     "metadata": {
      "needs_background": "light"
     },
     "output_type": "display_data"
    }
   ],
   "source": [
    "fig = plt.figure(figsize=(8,4))\n",
    "ax = fig.add_subplot(1,1,1)\n",
    "ax.bar(ind, counts/5000)\n",
    "plt.xticks(ind, ids_str);\n",
    "plt.xlabel('residue index')"
   ]
  },
  {
   "cell_type": "code",
   "execution_count": 76,
   "metadata": {},
   "outputs": [
    {
     "data": {
      "text/plain": [
       "<Residue ASP, 164>"
      ]
     },
     "execution_count": 76,
     "metadata": {},
     "output_type": "execute_result"
    }
   ],
   "source": [
    "u.atoms.residues[154]"
   ]
  },
  {
   "cell_type": "code",
   "execution_count": 77,
   "metadata": {},
   "outputs": [
    {
     "data": {
      "text/plain": [
       "<Residue ASP, 163>"
      ]
     },
     "execution_count": 77,
     "metadata": {},
     "output_type": "execute_result"
    }
   ],
   "source": []
  },
  {
   "cell_type": "code",
   "execution_count": null,
   "metadata": {},
   "outputs": [],
   "source": []
  }
 ],
 "metadata": {
  "kernelspec": {
   "display_name": "Python 3",
   "language": "python",
   "name": "python3"
  },
  "language_info": {
   "codemirror_mode": {
    "name": "ipython",
    "version": 3
   },
   "file_extension": ".py",
   "mimetype": "text/x-python",
   "name": "python",
   "nbconvert_exporter": "python",
   "pygments_lexer": "ipython3",
   "version": "3.6.5"
  }
 },
 "nbformat": 4,
 "nbformat_minor": 2
}
